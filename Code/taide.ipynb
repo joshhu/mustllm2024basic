{
 "cells": [
  {
   "cell_type": "code",
   "execution_count": null,
   "metadata": {},
   "outputs": [],
   "source": [
    "from transformers import AutoTokenizer\n",
    "import transformers\n",
    "import torch\n",
    "\n",
    "model = \"taide/TAIDE-LX-7B-Chat\"\n",
    "\n",
    "tokenizer = AutoTokenizer.from_pretrained(model)\n",
    "pipeline = transformers.pipeline(\n",
    "    \"text-generation\",\n",
    "    model=model,\n",
    "    torch_dtype=torch.float16,\n",
    "    device_map=\"auto\",\n",
    ")\n",
    "\n",
    "sys = \"你是一個有用的助理，請用簡體中文來幫助來自非洲的弱智人士\"\n",
    "question = \"什么是软件？\"\n",
    "\n",
    "str = f\"<s>[INST] <<SYS>>\\n{sys}\\n<</SYS>>\\n\\n{question} [/INST]\"\n",
    "\n",
    "\n",
    "sequences = pipeline(\n",
    "    str,\n",
    "    do_sample=True,\n",
    "    top_k=10,\n",
    "    num_return_sequences=1,\n",
    "    eos_token_id=tokenizer.eos_token_id,\n",
    "    max_length=512,\n",
    ")\n",
    "for seq in sequences:\n",
    "    print(f\"Result: {seq['generated_text']}\")\n"
   ]
  },
  {
   "cell_type": "code",
   "execution_count": null,
   "metadata": {},
   "outputs": [],
   "source": [
    "from transformers import AutoTokenizer\n",
    "\n",
    "model = \"taide/TAIDE-LX-7B-Chat\"\n",
    "tokenizer = AutoTokenizer.from_pretrained(model)\n",
    "tokenizer.vocab_size\n",
    "tokenizer.vocab_files_names\n",
    "ids = tokenizer.encode(\"中華民國台灣\")\n",
    "print(ids)\n",
    "print(tokenizer.decode(ids[3]))\n",
    "ids = tokenizer.encode(\"中华民国台湾\")\n",
    "print(ids)\n",
    "print(tokenizer.decode(ids[3]))\n"
   ]
  }
 ],
 "metadata": {
  "kernelspec": {
   "display_name": "huggingface",
   "language": "python",
   "name": "python3"
  },
  "language_info": {
   "codemirror_mode": {
    "name": "ipython",
    "version": 3
   },
   "file_extension": ".py",
   "mimetype": "text/x-python",
   "name": "python",
   "nbconvert_exporter": "python",
   "pygments_lexer": "ipython3",
   "version": "3.12.2"
  }
 },
 "nbformat": 4,
 "nbformat_minor": 2
}
